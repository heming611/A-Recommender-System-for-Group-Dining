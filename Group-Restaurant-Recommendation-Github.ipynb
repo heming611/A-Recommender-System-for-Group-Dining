{
 "cells": [
  {
   "cell_type": "markdown",
   "metadata": {},
   "source": [
    "## A Recommender System for Group Dining"
   ]
  },
  {
   "cell_type": "markdown",
   "metadata": {
    "collapsed": true
   },
   "source": [
    "We use users' review and rating information on restaurants to build a recommender system for group dining. It consists of the following steps:\n",
    "\n",
    "* **Step 1**: use collaborative filtering to learn each user's preference over all restaurants. Given the high level of sparsity of the user-rating matrix, we use NLP method to extract information from reviews for each restaurant, and construct cosine distance matrix of all restaurants.\n",
    "\n",
    "* **Step 2**: aggregate the group members' preference to form group preference, and further take into account individual constraint (none of the group members will be unhappy while maximizing the group's total dining experience), and geolocation constraint, recommend restaurants in the neighborhood."
   ]
  },
  {
   "cell_type": "markdown",
   "metadata": {},
   "source": [
    "### Datasets: obtained from Yelp\n",
    "* 'restaurants.json': a subset of business.json within only restaurants\n",
    "* 'photo.json': contains information of photo_id, caption, label, and business_id\n",
    "* 'business.json': contain information of business, such as business_id, name, stars, address, etc.\n",
    "* 'user.json': contain information of users\n",
    "\n",
    "See <a href=\"https://www.yelp.com/dataset/download\">Here</a> for a complete description of the data."
   ]
  },
  {
   "cell_type": "code",
   "execution_count": 50,
   "metadata": {
    "collapsed": true
   },
   "outputs": [],
   "source": [
    "import pandas as pd\n",
    "import numpy as np\n",
    "import json\n",
    "import matplotlib.pyplot as plt\n",
    "from sklearn import decomposition\n",
    "from sklearn.metrics.pairwise import pairwise_distances\n",
    "from flaskexample import utility"
   ]
  },
  {
   "cell_type": "markdown",
   "metadata": {},
   "source": [
    "## Starts from Here"
   ]
  },
  {
   "cell_type": "code",
   "execution_count": 181,
   "metadata": {
    "collapsed": true
   },
   "outputs": [],
   "source": [
    "review_restaurants_toronto = []\n",
    "with open('review_restaurants_toronto.json') as file:\n",
    "    for line in file:\n",
    "        review_restaurants_toronto.append(json.loads(line))\n",
    "review_restaurants_toronto_df = pd.DataFrame(review_restaurants_toronto)"
   ]
  },
  {
   "cell_type": "markdown",
   "metadata": {},
   "source": [
    "#### Obtain List of Users with Many Reviews "
   ]
  },
  {
   "cell_type": "code",
   "execution_count": 183,
   "metadata": {
    "collapsed": true
   },
   "outputs": [],
   "source": [
    "num_reviews_threshold = 30\n",
    "user_review_count = review_restaurants_toronto_df.groupby(['user_id']).size().reset_index(name = 'counts')\n",
    "user_review_count_subset = user_review_count[user_review_count['counts']>num_reviews_threshold]\n",
    "user_id_with_many_reviews = user_review_count_subset['user_id'].reset_index(name = 'user_id')\n",
    "user_id_list_with_many_reviews = list(user_id_with_many_reviews['user_id'])"
   ]
  },
  {
   "cell_type": "markdown",
   "metadata": {},
   "source": [
    "#### Obtain List of Toronto Restaurants with Photos"
   ]
  },
  {
   "cell_type": "code",
   "execution_count": 206,
   "metadata": {
    "collapsed": true
   },
   "outputs": [],
   "source": [
    "restaurants_ids_toronto_df = pd.DataFrame({'business_id':list(review_restaurants_toronto_df['business_id'].unique())})"
   ]
  },
  {
   "cell_type": "markdown",
   "metadata": {},
   "source": [
    "photo.json includes: photo_id: unique photo id; caption: some feature or dish of the restaurant; label: 'interior','food','outside','drink','menu'; business_id: unique business id"
   ]
  },
  {
   "cell_type": "code",
   "execution_count": null,
   "metadata": {
    "collapsed": true
   },
   "outputs": [],
   "source": [
    "photos = []\n",
    "with open('photos.json') as file:\n",
    "    for line in file:\n",
    "        photos.append(json.loads(line))\n",
    "photos_df = pd.DataFrame(photos)"
   ]
  },
  {
   "cell_type": "markdown",
   "metadata": {},
   "source": [
    "Construct a dataframe that maps business_id to photo_id for Toronto restaurants. The order of 'food', 'outside', 'inside', 'drink', 'menu' is used if a restaurant has multiple photos. "
   ]
  },
  {
   "cell_type": "code",
   "execution_count": 225,
   "metadata": {
    "collapsed": true
   },
   "outputs": [],
   "source": [
    "restaurant_id_photos_tmp = restaurants_ids_toronto_df.merge(photos_df, on='business_id', how='inner')[['business_id','label','photo_id']]#.drop_duplicates()\n",
    "restaurant_id_photos_toronto = pd.DataFrame(restaurant_id_photos_tmp.groupby('business_id').apply(utility.select_photo))\n",
    "restaurant_id_photos_toronto = restaurant_id_photos_toronto.rename(columns={restaurant_id_photos_toronto.columns[0]: 'photo_id'})"
   ]
  },
  {
   "cell_type": "markdown",
   "metadata": {
    "collapsed": true
   },
   "source": [
    "### Subsetting Reviews for Toronto Users with Many Reviews and Restaurants with Pictures\n",
    "* Focus on users with many reviews to Alleviate the Severe Sparsity Problem for User-Restaurant Rating Matrix"
   ]
  },
  {
   "cell_type": "code",
   "execution_count": 223,
   "metadata": {
    "collapsed": true
   },
   "outputs": [],
   "source": [
    "review_restaurants_subset_toronto_with_picture_df = review_restaurants_toronto_df.loc[\n",
    "    review_restaurants_toronto_df.apply(lambda x: x['user_id'] in user_id_list_with_many_reviews and x['business_id'] in restaurant_id_photos_toronto.index, axis = 1)]\n",
    "review_restaurants_subset_toronto_with_picture_df.to_json('review_restaurants_subset_toronto_with_picture.json',orient='records',lines=True)"
   ]
  },
  {
   "cell_type": "markdown",
   "metadata": {},
   "source": [
    "### Creating the user-item rating matrix"
   ]
  },
  {
   "cell_type": "code",
   "execution_count": 227,
   "metadata": {
    "collapsed": true
   },
   "outputs": [],
   "source": [
    "review_restaurants_subset_toronto_with_picture = []\n",
    "with open('review_restaurants_subset_toronto_with_picture.json') as file:\n",
    "    for line in file:\n",
    "        review_restaurants_subset_toronto_with_picture.append(json.loads(line))\n",
    "review_restaurants_subset_toronto_with_picture_df = pd.DataFrame(review_restaurants_subset_toronto_with_picture)"
   ]
  },
  {
   "cell_type": "code",
   "execution_count": 241,
   "metadata": {
    "collapsed": true
   },
   "outputs": [],
   "source": [
    "user_restaurant_ratings = review_restaurants_subset_toronto_with_picture_df.pivot(index='user_id', columns='business_id', values='review_stars')\n",
    "user_restaurant_ratings.to_csv('user_restaurant_ratings')"
   ]
  },
  {
   "cell_type": "markdown",
   "metadata": {},
   "source": [
    "Construct a dataframe that maps business_id to photo_id for our subset dataset. "
   ]
  },
  {
   "cell_type": "code",
   "execution_count": 268,
   "metadata": {
    "collapsed": true
   },
   "outputs": [],
   "source": [
    "restaurant_id_photos_my_dataset = restaurant_id_photos_toronto[restaurant_id_photos_toronto.index.isin(list(user_restaurant_ratings.columns))]\n",
    "restaurant_id_photos_my_dataset.reset_index(level=0, inplace=True)"
   ]
  },
  {
   "cell_type": "markdown",
   "metadata": {},
   "source": [
    "## Starts From Here: Exploratory Analysis"
   ]
  },
  {
   "cell_type": "markdown",
   "metadata": {},
   "source": [
    "## Need to scale down to the restaurants which has photos in the database"
   ]
  },
  {
   "cell_type": "code",
   "execution_count": 45,
   "metadata": {},
   "outputs": [
    {
     "name": "stdout",
     "output_type": "stream",
     "text": [
      "Number of Users : 1266\n",
      "Number of Restaurants : 3518\n",
      "Maximum number of reviews from one user :  641\n",
      "Minimum number of reviews from one user :  16\n",
      "Average number of reviews from one user : 53.9423\n",
      "The sparsity ratio: 0.9847\n"
     ]
    }
   ],
   "source": [
    "user_restaurant_ratings = pd.read_csv('user_restaurant_ratings', encoding = 'utf-8')\n",
    "user_restaurant_ratings = user_restaurant_ratings.set_index('user_id')\n",
    "\n",
    "num_review_per_user = user_restaurant_ratings.shape[1]-user_restaurant_ratings.isnull().sum(axis=1)\n",
    "\n",
    "print('Number of Users :', user_restaurant_ratings.shape[0])\n",
    "print('Number of Restaurants :', user_restaurant_ratings.shape[1])\n",
    "\n",
    "print('Maximum number of reviews from one user : ', max(list(num_review_per_user)))\n",
    "print('Minimum number of reviews from one user : ', min(list(num_review_per_user)))\n",
    "print('Average number of reviews from one user : {0:.4f}'.format(np.mean(list(num_review_per_user))))\n",
    "\n",
    "sparsity_ratio = sum(user_restaurant_ratings.isnull().sum())/(user_restaurant_ratings.shape[0]*user_restaurant_ratings.shape[1])\n",
    "print('The sparsity ratio: {0:.4f}'.format(sparsity_ratio))"
   ]
  },
  {
   "cell_type": "code",
   "execution_count": 47,
   "metadata": {
    "collapsed": true
   },
   "outputs": [],
   "source": [
    "# Replacing nan entries with 0\n",
    "user_restaurant_ratings = user_restaurant_ratings.fillna(0)\n",
    "##Creating a list of users, and a list of restaurants (these lists are in the same order as those in user_restaurant)\n",
    "users_list = list(user_restaurant_ratings.index)\n",
    "restaurants_list = list(user_restaurant_ratings.columns)"
   ]
  },
  {
   "cell_type": "markdown",
   "metadata": {},
   "source": [
    "Construct a table containing information of restaurants in the toronto dataset"
   ]
  },
  {
   "cell_type": "code",
   "execution_count": 273,
   "metadata": {
    "collapsed": true
   },
   "outputs": [],
   "source": [
    "#restaurants_df = pd.DataFrame({'business_id':restaurants_list})\n",
    "restaurants_info_my_dataset = restaurant_id_photos_my_dataset.merge(review_restaurants_subset_toronto_with_picture_df, \n",
    "                                                   on='business_id', how='inner')[['business_id','name','latitude',\n",
    "                                                                                   'longitude','restaurant_stars','review_count',\n",
    "                                                                                   'address','city','state','photo_id']].drop_duplicates()\n",
    "restaurants_info_my_dataset.to_csv('restaurants_info_my_dataset.csv', index=False)"
   ]
  },
  {
   "cell_type": "markdown",
   "metadata": {},
   "source": [
    "Construct a look-up table between user name and id"
   ]
  },
  {
   "cell_type": "code",
   "execution_count": null,
   "metadata": {
    "collapsed": true
   },
   "outputs": [],
   "source": [
    "users_df = pd.DataFrame({'user_id': users_list})\n",
    "users_name_to_id = users_df.merge(user_df, on='user_id', how='inner')[['user_id','name']]\n",
    "users_name_to_id.to_csv('users_name_to_id.csv', index=False)"
   ]
  },
  {
   "cell_type": "markdown",
   "metadata": {
    "collapsed": true
   },
   "source": [
    "Create Frequency Plots of Reviews by User and by Restaurant"
   ]
  },
  {
   "cell_type": "code",
   "execution_count": 278,
   "metadata": {},
   "outputs": [
    {
     "data": {
      "image/png": "[encoded data removed]",
      "text/plain": [
       "<matplotlib.figure.Figure at 0x7f8e6dc3f588>"
      ]
     },
     "metadata": {},
     "output_type": "display_data"
    }
   ],
   "source": [
    "num_reviews_each_user = user_restaurant_ratings.astype(bool).sum(axis=1)\n",
    "num_reviews_each_restaurant = user_restaurant_ratings.astype(bool).sum(axis=0)\n",
    "\n",
    "%matplotlib inline\n",
    "plt.figure(figsize=(12,5))\n",
    "plt.subplot(1,2,1)\n",
    "plt.hist(num_reviews_each_user, bins=np.arange(num_reviews_each_user.min(), num_reviews_each_user.max()+1))\n",
    "plt.xlim(0,400)\n",
    "plt.xlabel('Number of Reviews')\n",
    "plt.ylabel('Number of Users')\n",
    "plt.title('Frequency of Number of Reviews Written by each User')\n",
    "\n",
    "plt.subplot(1,2,2)\n",
    "plt.hist(num_reviews_each_restaurant, bins=np.arange(num_reviews_each_restaurant.min(), num_reviews_each_restaurant.max()+1))\n",
    "plt.xlim(0,200)\n",
    "plt.xlabel('Number of Reviews')\n",
    "plt.ylabel('Number of Restaurants')\n",
    "plt.title('Frequency of Number of Reviews for each Restaurant')\n",
    "plt.tight_layout(pad=1, w_pad=2, h_pad=4.0)\n",
    "plt.show()"
   ]
  },
  {
   "cell_type": "markdown",
   "metadata": {},
   "source": [
    "## Collaborative Filtering"
   ]
  },
  {
   "cell_type": "markdown",
   "metadata": {},
   "source": [
    "#### Construct the item-based similarity matrix from ratings. This matrix reflects cosine distance between restaurants in terms of quality (represented by rating). \n",
    "\n",
    "Cosine distance is invariant to the unit of measure. So even if the ratings for different restaurants are of different scale, it still makes sense. Not to mention that the ratings here are of the same scale 1-5."
   ]
  },
  {
   "cell_type": "code",
   "execution_count": 282,
   "metadata": {
    "collapsed": true
   },
   "outputs": [],
   "source": [
    "restaurant_cosine_distance_from_ratings = pairwise_distances(user_restaurant_ratings.T, metric='cosine')\n",
    "restaurant_cosine_distance_from_ratings = pd.DataFrame(restaurant_cosine_distance_from_ratings)\n",
    "restaurant_cosine_distance_from_ratings.columns = restaurants_list\n",
    "restaurant_cosine_distance_from_ratings.to_csv('restaurant_cosine_distance_from_ratings.csv',index=False)"
   ]
  },
  {
   "cell_type": "code",
   "execution_count": 40,
   "metadata": {
    "collapsed": true,
    "scrolled": true
   },
   "outputs": [],
   "source": [
    "restaurant_cosine_distance_from_ratings = pd.read_csv('restaurant_cosine_distance_from_ratings.csv')\n",
    "restaurant_cosine_distance_from_ratings = restaurant_cosine_distance_from_ratings.as_matrix()"
   ]
  },
  {
   "cell_type": "code",
   "execution_count": 284,
   "metadata": {
    "scrolled": true
   },
   "outputs": [
    {
     "data": {
      "image/png": "[encoded data removed]",
      "text/plain": [
       "<matplotlib.figure.Figure at 0x7f8e24880f98>"
      ]
     },
     "metadata": {},
     "output_type": "display_data"
    }
   ],
   "source": [
    "restaurant_cosine_distance_from_ratings_flattened = restaurant_cosine_distance_from_ratings.flatten()\n",
    "\n",
    "%matplotlib inline\n",
    "plt.figure(figsize=(6,4))\n",
    "plt.hist(restaurant_cosine_distance_from_ratings_flattened, bins=20)\n",
    "plt.xlim(0,1)\n",
    "plt.xlabel('Cosine Distance')\n",
    "plt.ylabel('Number of Pairs of Restaurants')\n",
    "plt.title('Frequency of Restaurants Cosine Distance from Ratings')\n",
    "plt.tight_layout(pad=1, w_pad=2, h_pad=4.0)\n",
    "plt.show()"
   ]
  },
  {
   "cell_type": "markdown",
   "metadata": {},
   "source": [
    "#### Comment\n",
    "The histogram is highly concentrated at 1, and this implies that the restaurants are very independent. The rating matrix does not provide us enough information to learn the similarity among all the restaurants. Numerically, since we have a lot of zeros in the rating matrix, then the inner product of two vectors are either zero or close to zero. As a result, we need to resort to other information source."
   ]
  },
  {
   "cell_type": "markdown",
   "metadata": {},
   "source": [
    "## Constructing Distance Matrix between Restaurants Using Reviews"
   ]
  },
  {
   "cell_type": "markdown",
   "metadata": {},
   "source": [
    "#### 1. Pre-processing the reviews "
   ]
  },
  {
   "cell_type": "code",
   "execution_count": 37,
   "metadata": {
    "collapsed": true
   },
   "outputs": [],
   "source": [
    "import nltk\n",
    "#nltk.download()"
   ]
  },
  {
   "cell_type": "markdown",
   "metadata": {},
   "source": [
    "#### Remove punctuations from reviews"
   ]
  },
  {
   "cell_type": "code",
   "execution_count": 38,
   "metadata": {
    "collapsed": true
   },
   "outputs": [],
   "source": [
    "from nltk.tokenize import RegexpTokenizer  #Regular-Expression Tokenizers\n",
    "tokenizer = RegexpTokenizer(r'\\w+')  #symbol in red means different tokenization choices, here we remove punctuations from reviews"
   ]
  },
  {
   "cell_type": "code",
   "execution_count": 286,
   "metadata": {
    "collapsed": true
   },
   "outputs": [],
   "source": [
    "review_grouped_by_restaurants = review_restaurants_subset_toronto_with_picture_df.groupby('business_id')['text'].apply(lambda x: \"{%s}\" % ' '.join(x))\n",
    "review_grouped_by_restaurants_tokenized = review_grouped_by_restaurants.apply(lambda x: ' '.join(tokenizer.tokenize(x)))\n",
    "reviews_restaurants_tokenized = list(review_grouped_by_restaurants_tokenized)"
   ]
  },
  {
   "cell_type": "markdown",
   "metadata": {},
   "source": [
    "### Remove stopwords and stem the words\n",
    "* Remove Stopwords such as 'a', 'the', 'again', etc. There are 179 stopwords in stop_words\n",
    "* Stem the words: Stemmers remove morphological affixes from words, leaving only the word stem. For example, enjoying --> enjoy, etc"
   ]
  },
  {
   "cell_type": "code",
   "execution_count": 287,
   "metadata": {
    "collapsed": true
   },
   "outputs": [],
   "source": [
    "from nltk.corpus import stopwords\n",
    "stop_words = set(stopwords.words('english'))\n",
    "\n",
    "# Remove stop words and Get word stem\n",
    "from nltk.stem import SnowballStemmer\n",
    "stemmer = SnowballStemmer(\"english\") # Choose a language\n",
    "\n",
    "texts = [[stemmer.stem(word) for word in review.lower().split() if (word not in stop_words)] \n",
    "         for review in reviews_restaurants_tokenized]\n",
    "#texts is a list of lists, each element is the list of words from all the reviews of a restaurant, in the same order\n",
    "#as the words in review."
   ]
  },
  {
   "cell_type": "markdown",
   "metadata": {
    "collapsed": true
   },
   "source": [
    "#### 2. Creating the dictionary\n",
    "The dictionary consists of a concatenation of unique words of all reviews. Gensim is an efficient library to analyse the latent semantic similarity between documents. "
   ]
  },
  {
   "cell_type": "code",
   "execution_count": 288,
   "metadata": {
    "collapsed": true
   },
   "outputs": [],
   "source": [
    "from gensim import corpora, models, similarities\n",
    "dictionary = corpora.Dictionary(texts)"
   ]
  },
  {
   "cell_type": "code",
   "execution_count": 289,
   "metadata": {},
   "outputs": [
    {
     "data": {
      "text/plain": [
       "48994"
      ]
     },
     "execution_count": 289,
     "metadata": {},
     "output_type": "execute_result"
    }
   ],
   "source": [
    "len(dictionary)"
   ]
  },
  {
   "cell_type": "code",
   "execution_count": 290,
   "metadata": {},
   "outputs": [
    {
     "name": "stdout",
     "output_type": "stream",
     "text": [
      "A sample of the dictionary\n"
     ]
    },
    {
     "data": {
      "text/plain": [
       "[('fill', 59),\n",
       " ('find', 60),\n",
       " ('food', 61),\n",
       " ('forward', 62),\n",
       " ('fresh', 63),\n",
       " ('fri', 64),\n",
       " ('friend', 65),\n",
       " ('fun', 66),\n",
       " ('gastro', 67),\n",
       " ('get', 68)]"
      ]
     },
     "execution_count": 290,
     "metadata": {},
     "output_type": "execute_result"
    }
   ],
   "source": [
    "import itertools\n",
    "print(\"A sample of the dictionary\")\n",
    "list(itertools.islice(dictionary.token2id.items(), 59, 69))"
   ]
  },
  {
   "cell_type": "markdown",
   "metadata": {},
   "source": [
    "This function maps unique words with their ids. In our case, the dictionary consists of 53801 words which means that each review will be represented through a 53801-dimensional vector space. "
   ]
  },
  {
   "cell_type": "code",
   "execution_count": 126,
   "metadata": {
    "collapsed": true
   },
   "outputs": [],
   "source": [
    "from os import path"
   ]
  },
  {
   "cell_type": "code",
   "execution_count": 163,
   "metadata": {},
   "outputs": [
    {
     "data": {
      "image/png": "[encoded data removed]",
      "text/plain": [
       "<matplotlib.figure.Figure at 0x7f8e24491080>"
      ]
     },
     "metadata": {},
     "output_type": "display_data"
    },
    {
     "data": {
      "text/plain": [
       "<matplotlib.figure.Figure at 0x7f8e2493c470>"
      ]
     },
     "metadata": {},
     "output_type": "display_data"
    }
   ],
   "source": [
    "from wordcloud import WordCloud, STOPWORDS\n",
    "stopwords_wordcloud = set(STOPWORDS)\n",
    "\n",
    "wc = WordCloud(background_color=\"white\", max_words=20, stopwords=stopwords_wordcloud)\n",
    "# generate word cloud\n",
    "wc.generate(reviews_restaurants_tokenized[28])\n",
    "\n",
    "wc.to_file(path.join(\"/home/heming611/Insight/Yelp-Project\", \"alice.png\"))\n",
    "\n",
    "# show\n",
    "%matplotlib inline\n",
    "plt.imshow(wc, interpolation='bilinear')\n",
    "plt.axis(\"off\")\n",
    "plt.figure()\n",
    "#plt.imshow(alice_mask, cmap=plt.cm.gray, interpolation='bilinear')\n",
    "#plt.axis(\"off\")\n",
    "plt.show()"
   ]
  },
  {
   "cell_type": "markdown",
   "metadata": {
    "collapsed": true
   },
   "source": [
    "#### 3 Creating the corpus\n",
    "The corpus is the collection of all reviews pre-processed and transformed using the dictionary. "
   ]
  },
  {
   "cell_type": "code",
   "execution_count": 291,
   "metadata": {
    "collapsed": true
   },
   "outputs": [],
   "source": [
    "corpus = [dictionary.doc2bow(text) for text in texts] #doc2bow is documenty to bag of words"
   ]
  },
  {
   "cell_type": "markdown",
   "metadata": {},
   "source": [
    "Lengths of different elements in corpus are different corpus only count frequencies of words in reviews for \n",
    "different restaurants if the word appears at least once. Conceptually, we can still understand each restaurant\n",
    "to be represented by a long vector, each entry representing the word frequeny following order in the dictionary. "
   ]
  },
  {
   "cell_type": "code",
   "execution_count": 292,
   "metadata": {},
   "outputs": [
    {
     "name": "stdout",
     "output_type": "stream",
     "text": [
      "length of corpus for restaurant 1: 200\n",
      "length of corpus for restaurant 2: 628\n"
     ]
    }
   ],
   "source": [
    "print('length of corpus for restaurant 1:',len(corpus[0]))\n",
    "print('length of corpus for restaurant 2:',len(corpus[1]))"
   ]
  },
  {
   "cell_type": "code",
   "execution_count": 293,
   "metadata": {},
   "outputs": [
    {
     "name": "stdout",
     "output_type": "stream",
     "text": [
      "[(1, 2), (3, 11), (4, 1), (5, 1)]\n"
     ]
    }
   ],
   "source": [
    "print(corpus[1][:4])\n",
    "#The vector feature (1, 1) means that the word with id=1 appears once in the entire corpus[1] (all reviews for restaurant 2). "
   ]
  },
  {
   "cell_type": "markdown",
   "metadata": {},
   "source": [
    "#### 4. Creating the tf-idf transformation"
   ]
  },
  {
   "cell_type": "code",
   "execution_count": 294,
   "metadata": {
    "collapsed": true
   },
   "outputs": [],
   "source": [
    "tfidf = models.TfidfModel(corpus)\n",
    "corpus_tfidf = tfidf[corpus]"
   ]
  },
  {
   "cell_type": "code",
   "execution_count": 295,
   "metadata": {},
   "outputs": [
    {
     "name": "stdout",
     "output_type": "stream",
     "text": [
      "length of corpus_tfidf for restaurant 1: 200\n",
      "length of corpus_tfidf for restaurant 2: 628\n"
     ]
    }
   ],
   "source": [
    "print('length of corpus_tfidf for restaurant 1:',len(corpus_tfidf[0]))\n",
    "print('length of corpus_tfidf for restaurant 2:',len(corpus_tfidf[1]))"
   ]
  },
  {
   "cell_type": "code",
   "execution_count": 296,
   "metadata": {},
   "outputs": [
    {
     "name": "stdout",
     "output_type": "stream",
     "text": [
      "[(1, 0.004538517621693482), (3, 0.023497475555596475), (4, 0.00678886390774615), (5, 0.009966852020391269)]\n"
     ]
    }
   ],
   "source": [
    "print(corpus_tfidf[1][:4])"
   ]
  },
  {
   "cell_type": "markdown",
   "metadata": {},
   "source": [
    "#### 5 Choice of the number of topics\n",
    "As mentioned above, LSA seeks to identify a set of topics related to the restaurants reviews. The number of these topics N is equal to the dimension of the approximation matrix resulting from the SVD dimension reduction technique. This number is a hyper-parameter to be carefully adjusted. It results from the selection of the N largest singular values of the tf-idf corpus matrix. These singular values can be calculated as follows: "
   ]
  },
  {
   "cell_type": "code",
   "execution_count": 297,
   "metadata": {
    "scrolled": true
   },
   "outputs": [
    {
     "data": {
      "text/plain": [
       "(48994, 3518)"
      ]
     },
     "execution_count": 297,
     "metadata": {},
     "output_type": "execute_result"
    }
   ],
   "source": [
    "import gensim\n",
    "corpus_dense_matrix = gensim.matutils.corpus2dense(corpus, num_terms=len(dictionary), num_docs=len(texts))\n",
    "corpus_dense_matrix.shape"
   ]
  },
  {
   "cell_type": "code",
   "execution_count": 298,
   "metadata": {
    "collapsed": true
   },
   "outputs": [],
   "source": [
    "s = np.linalg.svd(corpus_dense_matrix, full_matrices=False, compute_uv=False)"
   ]
  },
  {
   "cell_type": "code",
   "execution_count": 30,
   "metadata": {},
   "outputs": [
    {
     "data": {
      "text/plain": [
       "(6257,)"
      ]
     },
     "execution_count": 30,
     "metadata": {},
     "output_type": "execute_result"
    }
   ],
   "source": [
    "s.shape"
   ]
  },
  {
   "cell_type": "code",
   "execution_count": 299,
   "metadata": {},
   "outputs": [
    {
     "data": {
      "image/png": "[encoded data removed]",
      "text/plain": [
       "<matplotlib.figure.Figure at 0x7f8c8d9c7358>"
      ]
     },
     "metadata": {},
     "output_type": "display_data"
    }
   ],
   "source": [
    "#A histogram of the singular values of the tf-idf corpus matrix is presented in the following figure. \n",
    "plt.figure(figsize=(5,4))\n",
    "plt.hist(s, bins=100)\n",
    "plt.xlabel('Singular Values', fontsize=12)\n",
    "plt.show()"
   ]
  },
  {
   "cell_type": "markdown",
   "metadata": {},
   "source": [
    "**Use SVD for Low-rank matrix approximation**\n",
    "\n",
    "To approximate a matrix $M$ with another matrix $\\widehat{M}$ with rank $r$. It turns out that\n",
    "\n",
    "$$\\mathop{\\arg\\min}\\limits_{\\widehat{M},\\text{ rank}(\\widehat{M})=r} \\big|\\big|M-\\widehat{M}\\big|\\big|=U \\widehat{\\Sigma}V^*,$$\n",
    "where $||\\cdot||$ is the Frobenius norm, $\\widehat{\\Sigma}$ is the same matrix as $Σ$ except that it contains only the $r$ largest singular values (the other singular values are replaced by zero). This is known as the **Eckart–Young theorem**, as proved by those two authors in 1936."
   ]
  },
  {
   "cell_type": "markdown",
   "metadata": {},
   "source": [
    "* The singular-value decomposition of an $m\\times n$ matrix $M$ is a factorization of the form $M=U\\Sigma V^{*}$, where $U$ is an $m\\times m$ real or complex unitary matrix, $\\Sigma$ is a $m\\times n$ *rectangular* diagonal matrix with non-negative real numbers on the diagonal, $V$ is an $n\\times n$ real or complex unitary matrix, and $V^*$ is the conjugate transpose of $V$. The diagonal entries $\\sigma _{i}$ of $\\Sigma$ are the singular values of $M$. The columns of $U$ and the columns of $V$ are called the left-singular vectors and right-singular vectors of $M$, respectively. \n",
    "\n",
    "* A unitary matrix is one whose conjugate transpose is also its inverse. The conjugate transpose of a matrix $A$ is obtained by taking the transpose of $A$ and then taking the complex conjugate of each entry."
   ]
  },
  {
   "cell_type": "markdown",
   "metadata": {},
   "source": [
    "#### 6 Creating the LSA model"
   ]
  },
  {
   "cell_type": "code",
   "execution_count": 300,
   "metadata": {
    "collapsed": true
   },
   "outputs": [],
   "source": [
    "restaurant_types = ['Japanese','Pizza','Mexican','Chinese','Thai','Italian','Seafood','Burgers','Korean',\n",
    "                  'Steakhouses','Vegetarian','Sushi Bars','Sandwiches','Vietnamese','American (New)']"
   ]
  },
  {
   "cell_type": "code",
   "execution_count": 301,
   "metadata": {
    "collapsed": true
   },
   "outputs": [],
   "source": [
    "lsi = models.LsiModel(corpus_tfidf, id2word=dictionary, num_topics=len(restaurant_types))\n",
    "#The \"LsiModel\" function transforms our tf-idf corpus into a latent 15-dimensional space (number of topics = 15).\n",
    "cosine_similarity = similarities.docsim.MatrixSimilarity(lsi[corpus_tfidf]) # transform corpus to LSI space and index it\n",
    "# cosine_similarity = similarities.MatrixSimilarity(lsi[corpus_tfidf])"
   ]
  },
  {
   "cell_type": "code",
   "execution_count": 302,
   "metadata": {
    "collapsed": true
   },
   "outputs": [],
   "source": [
    "restaurant_cosine_distance_from_reviews = 1-np.array(cosine_similarity)\n",
    "pd.DataFrame(restaurant_cosine_distance_from_reviews).to_csv('restaurant_cosine_distance_from_reviews.csv',index=False)"
   ]
  },
  {
   "cell_type": "code",
   "execution_count": 43,
   "metadata": {
    "collapsed": true
   },
   "outputs": [],
   "source": [
    "restaurant_cosine_distance_from_reviews = pd.read_csv('restaurant_cosine_distance_from_reviews.csv')"
   ]
  },
  {
   "cell_type": "code",
   "execution_count": 59,
   "metadata": {
    "collapsed": true
   },
   "outputs": [],
   "source": [
    "#lsi.show_topics()"
   ]
  },
  {
   "cell_type": "code",
   "execution_count": 305,
   "metadata": {},
   "outputs": [
    {
     "data": {
      "image/png": "[encoded data removed]",
      "text/plain": [
       "<matplotlib.figure.Figure at 0x7f8e92808be0>"
      ]
     },
     "metadata": {},
     "output_type": "display_data"
    }
   ],
   "source": [
    "restaurant_cosine_distance_from_reviews_flattened = restaurant_cosine_distance_from_reviews.flatten()\n",
    "\n",
    "%matplotlib inline\n",
    "plt.figure(figsize=(6,4))\n",
    "plt.hist(restaurant_cosine_distance_from_reviews_flattened, bins=30)\n",
    "plt.xlim(0,1)\n",
    "plt.xlabel('Cosine Distance')\n",
    "plt.ylabel('Number of Pairs of Restaurants')\n",
    "plt.title('Frequency of Restaurants Cosine Distance from Reviews')\n",
    "plt.tight_layout(pad=1, w_pad=2, h_pad=4.0)\n",
    "plt.show()"
   ]
  },
  {
   "cell_type": "markdown",
   "metadata": {},
   "source": [
    "### Construct Different Models and CF-filled Matrices by Varying the Weights on Two Similarity Matrices\n",
    "Use CF to fill out the user_restaurant matrix, use the item-based similarity matrix, and store them for later use"
   ]
  },
  {
   "cell_type": "code",
   "execution_count": null,
   "metadata": {
    "collapsed": true
   },
   "outputs": [],
   "source": [
    "alphas = list(np.arange(0.1, 1, 0.1)) # alpha is the weight on the restaurant_distance_from_ratings matrix\n",
    "models = list(np.arange(1,10,1))\n",
    "for (alpha, model) in zip(alphas, models):\n",
    "    restaurant_cosine_distance_hybrid = alpha*restaurant_cosine_distance_from_ratings+(1-alpha)*restaurant_cosine_distance_from_reviews\n",
    "    restaurant_cosine_distance_hybrid = pd.DataFrame(restaurant_cosine_distance_hybrid)\n",
    "    restaurant_cosine_distance_hybrid.columns = restaurants_list\n",
    "    user_restaurant_cf = utility.predicted_rating(user_restaurant_ratings.as_matrix(), restaurant_cosine_distance_hybrid, type='item') # Type: matrix\n",
    "    user_restaurant_cf_df_model = pd.DataFrame(data=user_restaurant_cf, index=users_list, columns=restaurants_list)\n",
    "    user_restaurant_cf_df_model.to_csv('user_restaurant_cf_model_' + str(model) +'.csv')"
   ]
  },
  {
   "cell_type": "markdown",
   "metadata": {},
   "source": [
    "### Lower-Dimensional Data Visualization of Users' Preference\n",
    "Use PCA to project users ratings (in Toronto) on the plane, using a hybrid model with weight 0.5"
   ]
  },
  {
   "cell_type": "code",
   "execution_count": 3,
   "metadata": {
    "collapsed": true
   },
   "outputs": [],
   "source": [
    "user_restaurant_cf = pd.read_csv('user_restaurant_cf_model_'+str(5)+'.csv')\n",
    "user_restaurant_cf = user_restaurant_cf.rename(columns = {'Unnamed: 0':'user_id'})\n",
    "user_restaurant_cf = user_restaurant_cf.set_index('user_id')"
   ]
  },
  {
   "cell_type": "code",
   "execution_count": 314,
   "metadata": {},
   "outputs": [
    {
     "data": {
      "image/png": "[encoded data removed]",
      "text/plain": [
       "<matplotlib.figure.Figure at 0x7f8e17f1e860>"
      ]
     },
     "metadata": {},
     "output_type": "display_data"
    }
   ],
   "source": [
    "from sklearn import decomposition\n",
    "from sklearn.decomposition import PCA\n",
    "\n",
    "pca = decomposition.PCA(n_components=2)\n",
    "pca.fit(user_restaurant_cf.as_matrix())\n",
    "user_pca = pca.transform(user_restaurant_cf)\n",
    "# user_pca is a list of pairs of (x,y) coordinates, x: 1st principle component, y: 2nd principle component\n",
    "\n",
    "plt.figure(figsize=(5,4))\n",
    "plt.scatter(user_pca[:,0],user_pca[:,1],s=1)\n",
    "plt.xlabel(\"PC1\")\n",
    "plt.ylabel(\"PC2\")\n",
    "plt.axis((-2,10,-0.4,0.4))\n",
    "plt.title('Principle Components Projection of Users')\n",
    "plt.show()"
   ]
  },
  {
   "cell_type": "markdown",
   "metadata": {},
   "source": [
    "## Recommending Restaurants"
   ]
  },
  {
   "cell_type": "markdown",
   "metadata": {},
   "source": [
    "#### Compute Business ids with Distance Constraint"
   ]
  },
  {
   "cell_type": "code",
   "execution_count": 8,
   "metadata": {
    "collapsed": true
   },
   "outputs": [],
   "source": [
    "from geopy.distance import great_circle\n",
    "\n",
    "#Specify mile limit and default location\n",
    "within_x_miles = 1\n",
    "latitude_default, longitude_default = 43.6544, -79.3807 # Toronto Eaton Centre\n",
    "my_location = (latitude_default, longitude_default)\n",
    "\n",
    "#Filter out business_id within the mile limit\n",
    "restaurants_info_my_dataset = pd.read_csv('restaurants_info_my_dataset.csv')\n",
    "distances_to_my_location = restaurants_info_my_dataset.apply(lambda x: great_circle(np.array(x[['latitude','longitude']]), my_location).miles, axis=1) \n",
    "restaurants_info_my_dataset['distances_to_my_location'] = distances_to_my_location\n",
    "restaurants_info_my_dataset = restaurants_info_my_dataset.set_index('business_id')\n",
    "business_id_within_x_miles = list(restaurants_info_my_dataset[np.array(restaurants_info_my_dataset['distances_to_my_location'])<=within_x_miles].index)"
   ]
  },
  {
   "cell_type": "markdown",
   "metadata": {},
   "source": [
    "Import look up table for user id and name"
   ]
  },
  {
   "cell_type": "code",
   "execution_count": 9,
   "metadata": {
    "collapsed": true
   },
   "outputs": [],
   "source": [
    "users_name_to_id = pd.read_csv('users_name_to_id.csv')"
   ]
  },
  {
   "cell_type": "markdown",
   "metadata": {},
   "source": [
    "Convert list of user names to list of user id for the group"
   ]
  },
  {
   "cell_type": "code",
   "execution_count": 10,
   "metadata": {
    "collapsed": true
   },
   "outputs": [],
   "source": [
    "group_name_list = ['Stephen','Nisha','Dixie']\n",
    "group_id_df = users_name_to_id[users_name_to_id.apply(lambda x : x['name'] in group_name_list, axis = 1)].drop_duplicates(subset='name')\n",
    "group_id_list = list(group_id_df['user_id'])"
   ]
  },
  {
   "cell_type": "markdown",
   "metadata": {},
   "source": [
    "Recommend restaurants for different models with different weights between two types of restaurants similarity matrix"
   ]
  },
  {
   "cell_type": "code",
   "execution_count": 31,
   "metadata": {
    "collapsed": true
   },
   "outputs": [],
   "source": [
    "model_choices = np.arange(1,10,4)\n",
    "quantile_threshold = 0.25\n",
    "select_top_x = 5\n",
    "results = utility.group_restaurant_recommendation(model_choices, business_id_within_x_miles, \n",
    "                                                  group_id_list, quantile_threshold, \n",
    "                                                  select_top_x, restaurants_info_my_dataset)\n",
    "   \n",
    "list_of_business_ids_different_models = results[0]\n",
    "list_of_photo_ids_different_models = results[1]\n",
    "list_of_business_names_different_models = results[2]\n",
    "list_of_business_stars_different_models = results[3]\n",
    "list_of_business_review_count_different_models = results[4] \n",
    "list_of_business_address_different_models = results[5]\n",
    "list_of_business_distance_different_models = results[6]\n",
    "random_choice_list = results[7]"
   ]
  },
  {
   "cell_type": "markdown",
   "metadata": {},
   "source": [
    "### Print Recommended Restaurants from Different Models"
   ]
  },
  {
   "cell_type": "code",
   "execution_count": 32,
   "metadata": {
    "collapsed": true
   },
   "outputs": [],
   "source": [
    "recommendations_different_models = []\n",
    "column_list = ['Restaurant Name', 'Star Rating', 'Address', 'Distance']\n",
    "\n",
    "for i in range(len(model_choices)):\n",
    "    #print (i)\n",
    "    name = list_of_business_names_different_models[i]\n",
    "    stars = list_of_business_stars_different_models[i]\n",
    "    address = list_of_business_address_different_models[i]\n",
    "    distance = list_of_business_distance_different_models[i]\n",
    "    df = pd.DataFrame({'Restaurant Name': name,\n",
    "                       'Star Rating': stars,\n",
    "                       'Address': address,\n",
    "                       'Distance': distance\n",
    "                      })\n",
    "    recommendations_different_models.append(df[column_list])"
   ]
  },
  {
   "cell_type": "code",
   "execution_count": 33,
   "metadata": {
    "scrolled": true
   },
   "outputs": [
    {
     "name": "stdout",
     "output_type": "stream",
     "text": [
      "Recommended Restaurants from Model 1 (weight = 0.1)\n"
     ]
    },
    {
     "data": {
      "text/html": [
       "<div>\n",
       "<style>\n",
       "    .dataframe thead tr:only-child th {\n",
       "        text-align: right;\n",
       "    }\n",
       "\n",
       "    .dataframe thead th {\n",
       "        text-align: left;\n",
       "    }\n",
       "\n",
       "    .dataframe tbody tr th {\n",
       "        vertical-align: top;\n",
       "    }\n",
       "</style>\n",
       "<table border=\"1\" class=\"dataframe\">\n",
       "  <thead>\n",
       "    <tr style=\"text-align: right;\">\n",
       "      <th></th>\n",
       "      <th>Restaurant Name</th>\n",
       "      <th>Star Rating</th>\n",
       "      <th>Address</th>\n",
       "      <th>Distance</th>\n",
       "    </tr>\n",
       "  </thead>\n",
       "  <tbody>\n",
       "    <tr>\n",
       "      <th>0</th>\n",
       "      <td>Si Lom Thai Bistro</td>\n",
       "      <td>4.0</td>\n",
       "      <td>534 Church Street,Toronto,ON</td>\n",
       "      <td>0.7</td>\n",
       "    </tr>\n",
       "    <tr>\n",
       "      <th>1</th>\n",
       "      <td>Yummy Yummy Dumplings</td>\n",
       "      <td>4.0</td>\n",
       "      <td>79 Huron Street,Toronto,ON</td>\n",
       "      <td>0.8</td>\n",
       "    </tr>\n",
       "    <tr>\n",
       "      <th>2</th>\n",
       "      <td>Thai Country Kitchen</td>\n",
       "      <td>4.0</td>\n",
       "      <td>412 Spadina Ave,Toronto,ON</td>\n",
       "      <td>1.0</td>\n",
       "    </tr>\n",
       "    <tr>\n",
       "      <th>3</th>\n",
       "      <td>Thai Fantasy</td>\n",
       "      <td>4.0</td>\n",
       "      <td>578 Yonge Street,Toronto,ON</td>\n",
       "      <td>0.8</td>\n",
       "    </tr>\n",
       "    <tr>\n",
       "      <th>4</th>\n",
       "      <td>Thai Noodle</td>\n",
       "      <td>4.0</td>\n",
       "      <td>147 Baldwin Street,Toronto,ON</td>\n",
       "      <td>0.9</td>\n",
       "    </tr>\n",
       "  </tbody>\n",
       "</table>\n",
       "</div>"
      ],
      "text/plain": [
       "         Restaurant Name  Star Rating                        Address  Distance\n",
       "0     Si Lom Thai Bistro          4.0   534 Church Street,Toronto,ON       0.7\n",
       "1  Yummy Yummy Dumplings          4.0     79 Huron Street,Toronto,ON       0.8\n",
       "2   Thai Country Kitchen          4.0     412 Spadina Ave,Toronto,ON       1.0\n",
       "3           Thai Fantasy          4.0    578 Yonge Street,Toronto,ON       0.8\n",
       "4            Thai Noodle          4.0  147 Baldwin Street,Toronto,ON       0.9"
      ]
     },
     "execution_count": 33,
     "metadata": {},
     "output_type": "execute_result"
    }
   ],
   "source": [
    "print('Recommended Restaurants from Model 1 (weight = 0.1)')\n",
    "recommendations_different_models[0]"
   ]
  },
  {
   "cell_type": "code",
   "execution_count": 34,
   "metadata": {
    "scrolled": true
   },
   "outputs": [
    {
     "name": "stdout",
     "output_type": "stream",
     "text": [
      "Recommended Restaurants from Model 2 (weight = 0.5)\n"
     ]
    },
    {
     "data": {
      "text/html": [
       "<div>\n",
       "<style>\n",
       "    .dataframe thead tr:only-child th {\n",
       "        text-align: right;\n",
       "    }\n",
       "\n",
       "    .dataframe thead th {\n",
       "        text-align: left;\n",
       "    }\n",
       "\n",
       "    .dataframe tbody tr th {\n",
       "        vertical-align: top;\n",
       "    }\n",
       "</style>\n",
       "<table border=\"1\" class=\"dataframe\">\n",
       "  <thead>\n",
       "    <tr style=\"text-align: right;\">\n",
       "      <th></th>\n",
       "      <th>Restaurant Name</th>\n",
       "      <th>Star Rating</th>\n",
       "      <th>Address</th>\n",
       "      <th>Distance</th>\n",
       "    </tr>\n",
       "  </thead>\n",
       "  <tbody>\n",
       "    <tr>\n",
       "      <th>0</th>\n",
       "      <td>Si Lom Thai Bistro</td>\n",
       "      <td>4.0</td>\n",
       "      <td>534 Church Street,Toronto,ON</td>\n",
       "      <td>0.7</td>\n",
       "    </tr>\n",
       "    <tr>\n",
       "      <th>1</th>\n",
       "      <td>Fudao noodle house</td>\n",
       "      <td>4.0</td>\n",
       "      <td>358 Spadina ave,Toronto,ON</td>\n",
       "      <td>0.9</td>\n",
       "    </tr>\n",
       "    <tr>\n",
       "      <th>2</th>\n",
       "      <td>Panpan Noodle Bar</td>\n",
       "      <td>4.0</td>\n",
       "      <td>23 Baldwin Street, 2nd Floor,Toronto,ON</td>\n",
       "      <td>0.6</td>\n",
       "    </tr>\n",
       "    <tr>\n",
       "      <th>3</th>\n",
       "      <td>Thai Fantasy</td>\n",
       "      <td>4.0</td>\n",
       "      <td>578 Yonge Street,Toronto,ON</td>\n",
       "      <td>0.8</td>\n",
       "    </tr>\n",
       "    <tr>\n",
       "      <th>4</th>\n",
       "      <td>Thai Noodle</td>\n",
       "      <td>4.0</td>\n",
       "      <td>147 Baldwin Street,Toronto,ON</td>\n",
       "      <td>0.9</td>\n",
       "    </tr>\n",
       "  </tbody>\n",
       "</table>\n",
       "</div>"
      ],
      "text/plain": [
       "      Restaurant Name  Star Rating                                  Address  \\\n",
       "0  Si Lom Thai Bistro          4.0             534 Church Street,Toronto,ON   \n",
       "1  Fudao noodle house          4.0               358 Spadina ave,Toronto,ON   \n",
       "2   Panpan Noodle Bar          4.0  23 Baldwin Street, 2nd Floor,Toronto,ON   \n",
       "3        Thai Fantasy          4.0              578 Yonge Street,Toronto,ON   \n",
       "4         Thai Noodle          4.0            147 Baldwin Street,Toronto,ON   \n",
       "\n",
       "   Distance  \n",
       "0       0.7  \n",
       "1       0.9  \n",
       "2       0.6  \n",
       "3       0.8  \n",
       "4       0.9  "
      ]
     },
     "execution_count": 34,
     "metadata": {},
     "output_type": "execute_result"
    }
   ],
   "source": [
    "print('Recommended Restaurants from Model 2 (weight = 0.5)')\n",
    "recommendations_different_models[1]"
   ]
  },
  {
   "cell_type": "code",
   "execution_count": 35,
   "metadata": {},
   "outputs": [
    {
     "name": "stdout",
     "output_type": "stream",
     "text": [
      "Recommended Restaurants from Model 3 (weight = 0.9)\n"
     ]
    },
    {
     "data": {
      "text/html": [
       "<div>\n",
       "<style>\n",
       "    .dataframe thead tr:only-child th {\n",
       "        text-align: right;\n",
       "    }\n",
       "\n",
       "    .dataframe thead th {\n",
       "        text-align: left;\n",
       "    }\n",
       "\n",
       "    .dataframe tbody tr th {\n",
       "        vertical-align: top;\n",
       "    }\n",
       "</style>\n",
       "<table border=\"1\" class=\"dataframe\">\n",
       "  <thead>\n",
       "    <tr style=\"text-align: right;\">\n",
       "      <th></th>\n",
       "      <th>Restaurant Name</th>\n",
       "      <th>Star Rating</th>\n",
       "      <th>Address</th>\n",
       "      <th>Distance</th>\n",
       "    </tr>\n",
       "  </thead>\n",
       "  <tbody>\n",
       "    <tr>\n",
       "      <th>0</th>\n",
       "      <td>Papa Spicy</td>\n",
       "      <td>4.5</td>\n",
       "      <td>339 Spadina Avenue,Toronto,ON</td>\n",
       "      <td>0.9</td>\n",
       "    </tr>\n",
       "    <tr>\n",
       "      <th>1</th>\n",
       "      <td>Fudao noodle house</td>\n",
       "      <td>4.0</td>\n",
       "      <td>358 Spadina ave,Toronto,ON</td>\n",
       "      <td>0.9</td>\n",
       "    </tr>\n",
       "    <tr>\n",
       "      <th>2</th>\n",
       "      <td>Carribean Queen Metro</td>\n",
       "      <td>4.0</td>\n",
       "      <td>10 Dundas Street,Toronto,ON</td>\n",
       "      <td>0.1</td>\n",
       "    </tr>\n",
       "    <tr>\n",
       "      <th>3</th>\n",
       "      <td>Kaiseki-Sakura</td>\n",
       "      <td>4.5</td>\n",
       "      <td>556 Church St,Toronto,ON</td>\n",
       "      <td>0.8</td>\n",
       "    </tr>\n",
       "    <tr>\n",
       "      <th>4</th>\n",
       "      <td>Panpan Noodle Bar</td>\n",
       "      <td>4.0</td>\n",
       "      <td>23 Baldwin Street, 2nd Floor,Toronto,ON</td>\n",
       "      <td>0.6</td>\n",
       "    </tr>\n",
       "  </tbody>\n",
       "</table>\n",
       "</div>"
      ],
      "text/plain": [
       "         Restaurant Name  Star Rating  \\\n",
       "0             Papa Spicy          4.5   \n",
       "1     Fudao noodle house          4.0   \n",
       "2  Carribean Queen Metro          4.0   \n",
       "3         Kaiseki-Sakura          4.5   \n",
       "4      Panpan Noodle Bar          4.0   \n",
       "\n",
       "                                   Address  Distance  \n",
       "0            339 Spadina Avenue,Toronto,ON       0.9  \n",
       "1               358 Spadina ave,Toronto,ON       0.9  \n",
       "2              10 Dundas Street,Toronto,ON       0.1  \n",
       "3                 556 Church St,Toronto,ON       0.8  \n",
       "4  23 Baldwin Street, 2nd Floor,Toronto,ON       0.6  "
      ]
     },
     "execution_count": 35,
     "metadata": {},
     "output_type": "execute_result"
    }
   ],
   "source": [
    "print('Recommended Restaurants from Model 3 (weight = 0.9)')\n",
    "recommendations_different_models[2]"
   ]
  },
  {
   "cell_type": "markdown",
   "metadata": {},
   "source": [
    "Dataset needs to be uploaded to github\n",
    "\n",
    "* restaurants_info_my_dataset.csv\n",
    "* users_name_to_id.csv\n",
    "* user_restaurant_cf_model_' + str(model) +'.csv\n",
    "* restaurant_cosine_distance_from_reviews\n",
    "* restaurant_cosine_distance_from_ratings"
   ]
  }
 ],
 "metadata": {
  "kernelspec": {
   "display_name": "Python 3",
   "language": "python",
   "name": "python3"
  },
  "language_info": {
   "codemirror_mode": {
    "name": "ipython",
    "version": 3
   },
   "file_extension": ".py",
   "mimetype": "text/x-python",
   "name": "python",
   "nbconvert_exporter": "python",
   "pygments_lexer": "ipython3",
   "version": "3.6.3"
  }
 },
 "nbformat": 4,
 "nbformat_minor": 2
}
